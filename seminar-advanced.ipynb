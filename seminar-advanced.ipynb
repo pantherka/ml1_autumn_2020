{
 "cells": [
  {
   "cell_type": "markdown",
   "metadata": {},
   "source": [
    "# Быстро строим деревья"
   ]
  },
  {
   "cell_type": "markdown",
   "metadata": {},
   "source": [
    "\n",
    "Деревья глубины 1 обычно называют решающими пнями. \n",
    "Как Вы думаете, какая сложность построения решающего пня?\n"
   ]
  },
  {
   "cell_type": "markdown",
   "metadata": {},
   "source": [
    "Представим, что мы решаем задачу регрессии, считаем для одного сплита. \n",
    "\n",
    "$$Q = F(R_m) - \\frac{N_l}{N_m} F(R_l) - \\frac{N_r}{N_m} F(R_r) $$\n",
    "\n",
    "$$F(R) = \\frac{1}{N} \\sum_{i=1}^{N}(mean(y) - y_i) ^ 2 $$\n",
    "\n",
    "$$Q = F(R_m) - \\frac{1}{N_m} [ \\sum_{i \\in R_l}(mean(y_l) - y_i) ^ 2  +  \\sum_{i \\in R_r}(mean(y_r) - y_i) ^ 2 ]  $$\n",
    "\n",
    "$F(R_m) и N_m$ от сплита не зависит, можно отбросить. Осталось научиться быстро считать такие выражения:\n",
    "$\\sum_{i \\in R_l}(mean(y_l) - y_i) ^ 2$ для всех порогов. \n",
    "\n",
    "Если делать в лоб, то получится $O(||R||^2)$, нам не нравится, очень долго. Каждый раз пересчитывать довольно глупо, потому что мы точно знаем, какой именно объект при изменении сплита перешел из левой части в правую!\n",
    "\n",
    "\n"
   ]
  },
  {
   "cell_type": "markdown",
   "metadata": {},
   "source": [
    "Воспользуемся формулой для дисперсии:\n",
    "$$D(R) = mean(y ^ 2) -  mean(y) ^ 2 =   \\frac{1}{N} \\sum_{i \\in R} y_i^2 -  \\frac{1}{N ^ 2} (\\sum_{i \\in R} y_i) ^2$$\n",
    "\n",
    "Но у нас не дисперсия, а дисперсия без деления на число объектов, то есть:\n",
    "$$\\sum_{i \\in R_l}(mean(y_l) - y_i) ^ 2 =   \\sum_{i \\in R_k} y_i^2 -  \\frac{1}{N_l} (\\sum_{i \\in R_l} y_i) ^2 $$\n",
    "Аналогично для правого сплита. "
   ]
  },
  {
   "cell_type": "markdown",
   "metadata": {},
   "source": [
    "Вот мы и получили более простой алгоритм подсчета сплита:\n",
    "\n",
    "1) Отсортировали фичу и таргет по фиче\n",
    "\n",
    "2) Сначала считаем, что порог это минимальное значение, то есть левый кусок пустой, правый все значения. Храним для каждой из частей\n",
    "а) Сумму\n",
    "б) Сумму квадратов\n",
    "в) Число объектов\n",
    "\n",
    "3) Взяли следующее значение в отсортированном списке, это значение ушло от правого куска в левое. Обновили а) б) в) в обоих кусках\n",
    "\n",
    "4) Посчитали  для каждого куска б) - а) ** 2 / в), сложили для обоих кусков. Если эта сумма маеньше лучшего значения, то это лучший сплит из текущих\n"
   ]
  },
  {
   "cell_type": "markdown",
   "metadata": {},
   "source": [
    "Реализуйте алгоритм, сравните качество со sklearn.\n",
    "\n",
    "Если получилось одинаково, Вы молодец!!!"
   ]
  },
  {
   "cell_type": "code",
   "execution_count": 67,
   "metadata": {},
   "outputs": [],
   "source": [
    "import numpy as np\n",
    "\n",
    "def get_threshold(feature, y, train_mode='default'):\n",
    "    best_thr = None\n",
    "    best_q = float('inf')\n",
    "    arr = np.argsort(feature)\n",
    "    left_el = 0\n",
    "    right_el = y.shape[0]\n",
    "    left_sum = 0\n",
    "    right_sum = 0\n",
    "    left_sum_sq = 0\n",
    "    right_sum_sq = 0\n",
    "    for index in arr:\n",
    "        right_sum += y[index]\n",
    "        right_sum_sq += y[index] ** 2\n",
    "    \n",
    "    for i in range(len(arr) - 1):\n",
    "        index = arr[i]\n",
    "        left_sum += y[index]\n",
    "        right_sum -= y[index]\n",
    "        left_el += 1\n",
    "        right_el -= 1\n",
    "        left_sum_sq += y[index] ** 2\n",
    "        right_sum_sq -= y[index] ** 2\n",
    "        left_dis = left_sum_sq - left_sum ** 2 / left_el\n",
    "        right_dis = right_sum_sq - right_sum ** 2 / right_el\n",
    "        if (left_dis + right_dis) < best_q:\n",
    "            best_q = left_dis + right_dis\n",
    "            best_thr = feature[index]\n",
    "            left_mean = left_sum / left_el\n",
    "            right_mean = right_sum / right_el\n",
    "        \n",
    "    return best_q, best_thr, left_mean, right_mean\n",
    "\n",
    "\n",
    "def train_stump(X, y):\n",
    "    best_f = None\n",
    "    best_thr = None\n",
    "    best_error = float('inf')\n",
    "    left_mean, right_mean = None, None\n",
    "    for j in range(X.shape[1]):\n",
    "        f_score, f_thr, left, right = get_threshold(X[:, j], y)\n",
    "        if f_score < best_error:\n",
    "            best_error = f_score\n",
    "            best_f = j\n",
    "            best_thr = f_thr\n",
    "            left_mean = left\n",
    "            right_mean = right\n",
    "    return best_f, best_thr, left_mean, right_mean\n",
    "\n",
    "def predict(X, best_f, best_thr, left_mean, right_mean):\n",
    "    pred = []\n",
    "    for elem in X:\n",
    "        if elem[best_f] <= best_thr:\n",
    "            pred.append(left_mean)\n",
    "        else:\n",
    "            pred.append(right_mean)\n",
    "    return pred"
   ]
  },
  {
   "cell_type": "code",
   "execution_count": 2,
   "metadata": {},
   "outputs": [],
   "source": [
    "from sklearn.datasets import load_boston\n",
    "X, y = load_boston(return_X_y=True)"
   ]
  },
  {
   "cell_type": "code",
   "execution_count": 29,
   "metadata": {},
   "outputs": [
    {
     "name": "stdout",
     "output_type": "stream",
     "text": [
      "0.0\n",
      "46.19909167710848\n"
     ]
    }
   ],
   "source": [
    "from sklearn.tree import DecisionTreeRegressor\n",
    "from sklearn.metrics import mean_squared_error\n",
    "regressor = DecisionTreeRegressor(random_state=0).fit(X, y)\n",
    "print(mean_squared_error(y, regressor.predict(X)))\n",
    "regressor_stump = DecisionTreeRegressor(random_state=0, max_depth=1).fit(X, y)\n",
    "print(mean_squared_error(y, regressor_stump.predict(X)))"
   ]
  },
  {
   "cell_type": "code",
   "execution_count": 66,
   "metadata": {},
   "outputs": [
    {
     "name": "stdout",
     "output_type": "stream",
     "text": [
      "!!! 34450.122685406684\n",
      "!!! 31633.069947244992\n",
      "!!! 23376.740388616818\n",
      "46.19909167710848\n",
      "Wall time: 44.9 ms\n"
     ]
    }
   ],
   "source": [
    "%%time\n",
    "\n",
    "best_f, best_thr, left_mean, right_mean = train_stump(X, y)\n",
    "pred = predict(X, best_f, best_thr, left_mean, right_mean)\n",
    "print(mean_squared_error(y, pred))"
   ]
  },
  {
   "cell_type": "code",
   "execution_count": null,
   "metadata": {},
   "outputs": [],
   "source": []
  }
 ],
 "metadata": {
  "anaconda-cloud": {},
  "kernelspec": {
   "display_name": "Python 3",
   "language": "python",
   "name": "python3"
  },
  "language_info": {
   "codemirror_mode": {
    "name": "ipython",
    "version": 3
   },
   "file_extension": ".py",
   "mimetype": "text/x-python",
   "name": "python",
   "nbconvert_exporter": "python",
   "pygments_lexer": "ipython3",
   "version": "3.7.1"
  }
 },
 "nbformat": 4,
 "nbformat_minor": 2
}
